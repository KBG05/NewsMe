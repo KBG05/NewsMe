{
 "cells": [
  {
   "cell_type": "code",
   "execution_count": 4,
   "id": "f5ab8c1e",
   "metadata": {},
   "outputs": [
    {
     "name": "stdout",
     "output_type": "stream",
     "text": [
      "SM8e14c080d8c5b5d052f524887f71fc14\n"
     ]
    }
   ],
   "source": [
    "from twilio.rest import Client\n",
    "\n",
    "#Whatsapp Template\n",
    "account_sid = 'AC19264a15baaa937b1859ce6efba555c0'\n",
    "auth_token = 'db18756a32b4a5dcfab8b55d64ccecbd'\n",
    "client = Client(account_sid, auth_token)\n",
    "\n",
    "message = client.messages.create(\n",
    "  from_='whatsapp:+14155238886',\n",
    "  body='Test Message!\\nAccess Your Newsletter Here: https://www.youtube.com',\n",
    "  to='whatsapp:+918095461989'\n",
    ")\n",
    "\n",
    "print(message.sid)"
   ]
  },
  {
   "cell_type": "code",
   "execution_count": null,
   "id": "e4ccf636",
   "metadata": {},
   "outputs": [],
   "source": []
  }
 ],
 "metadata": {
  "kernelspec": {
   "display_name": "Python 3",
   "language": "python",
   "name": "python3"
  },
  "language_info": {
   "codemirror_mode": {
    "name": "ipython",
    "version": 3
   },
   "file_extension": ".py",
   "mimetype": "text/x-python",
   "name": "python",
   "nbconvert_exporter": "python",
   "pygments_lexer": "ipython3",
   "version": "3.11.9"
  }
 },
 "nbformat": 4,
 "nbformat_minor": 5
}

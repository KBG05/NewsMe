{
 "cells": [
  {
   "cell_type": "code",
   "execution_count": null,
   "id": "75c9f77a",
   "metadata": {},
   "outputs": [],
   "source": []
  }
 ],
 "metadata": {
  "language_info": {
   "name": "python"
  }
 },
 "nbformat": 4,
 "nbformat_minor": 5
}
